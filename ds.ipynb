{
 "cells": [
  {
   "cell_type": "code",
   "execution_count": 34,
   "metadata": {},
   "outputs": [],
   "source": [
    "import pandas as pd\n",
    "import matplotlib.pyplot as plt\n",
    "import seaborn as sns"
   ]
  },
  {
   "cell_type": "code",
   "execution_count": 35,
   "metadata": {},
   "outputs": [],
   "source": [
    "train=pd.read_csv(\"train_indessa.csv\")\n",
    "test=pd.read_csv(\"test_indessa.csv\")"
   ]
  },
  {
   "cell_type": "code",
   "execution_count": 36,
   "metadata": {},
   "outputs": [],
   "source": [
    "train=train[[\"member_id\",\"loan_amnt\",\"funded_amnt\",\"funded_amnt_inv\",\"term\",\"int_rate\",\"grade\",\"emp_length\",\"home_ownership\",\"annual_inc\",\"dti\", 'mths_since_last_delinq', 'mths_since_last_record', 'open_acc', 'revol_bal', 'revol_util', 'total_acc', 'total_rec_int', 'total_rec_late_fee', 'recoveries', 'collection_recovery_fee', 'collections_12_mths_ex_med', 'mths_since_last_major_derog','emp_title', 'last_week_pay', 'acc_now_delinq', 'tot_coll_amt', 'tot_cur_bal', 'total_rev_hi_lim', 'loan_status']]"
   ]
  },
  {
   "cell_type": "code",
   "execution_count": 37,
   "metadata": {},
   "outputs": [],
   "source": [
    "test=test[[\"member_id\",\"loan_amnt\",\"funded_amnt\",\"funded_amnt_inv\",\"term\",\"int_rate\",\"grade\",\"emp_length\",\"home_ownership\",\"annual_inc\",\"dti\", 'mths_since_last_delinq', 'mths_since_last_record', 'open_acc', 'revol_bal', 'revol_util', 'total_acc', 'total_rec_int', 'total_rec_late_fee', 'recoveries', 'collection_recovery_fee', 'collections_12_mths_ex_med', 'mths_since_last_major_derog','emp_title', 'last_week_pay', 'acc_now_delinq', 'tot_coll_amt', 'tot_cur_bal', 'total_rev_hi_lim']]"
   ]
  },
  {
   "cell_type": "code",
   "execution_count": 38,
   "metadata": {},
   "outputs": [
    {
     "data": {
      "text/plain": [
       "0         0\n",
       "1         0\n",
       "2         0\n",
       "3         0\n",
       "4         0\n",
       "         ..\n",
       "532423    0\n",
       "532424    0\n",
       "532425    1\n",
       "532426    0\n",
       "532427    0\n",
       "Name: loan_status, Length: 532428, dtype: int64"
      ]
     },
     "execution_count": 38,
     "metadata": {},
     "output_type": "execute_result"
    }
   ],
   "source": [
    "train[\"loan_status\"]"
   ]
  },
  {
   "cell_type": "code",
   "execution_count": 39,
   "metadata": {},
   "outputs": [
    {
     "data": {
      "text/plain": [
       "<AxesSubplot: xlabel='loan_status', ylabel='count'>"
      ]
     },
     "execution_count": 39,
     "metadata": {},
     "output_type": "execute_result"
    },
    {
     "data": {
      "image/png": "[encoded data removed]",
      "text/plain": [
       "<Figure size 640x480 with 1 Axes>"
      ]
     },
     "metadata": {},
     "output_type": "display_data"
    }
   ],
   "source": [
    "sns.countplot(x=\"loan_status\",data=train)"
   ]
  },
  {
   "cell_type": "code",
   "execution_count": 40,
   "metadata": {},
   "outputs": [
    {
     "data": {
      "text/plain": [
       "B    152713\n",
       "C    147499\n",
       "A     89107\n",
       "D     83567\n",
       "E     42495\n",
       "F     13826\n",
       "G      3221\n",
       "Name: grade, dtype: int64"
      ]
     },
     "execution_count": 40,
     "metadata": {},
     "output_type": "execute_result"
    }
   ],
   "source": [
    "train[\"grade\"].value_counts()"
   ]
  },
  {
   "cell_type": "code",
   "execution_count": 41,
   "metadata": {},
   "outputs": [
    {
     "data": {
      "text/plain": [
       "loan_status\n",
       "0    65148\n",
       "1    23959\n",
       "Name: grade, dtype: int64"
      ]
     },
     "execution_count": 41,
     "metadata": {},
     "output_type": "execute_result"
    }
   ],
   "source": [
    "train[train[\"grade\"]==\"A\"].groupby(\"loan_status\")[\"grade\"].count()"
   ]
  },
  {
   "cell_type": "code",
   "execution_count": 42,
   "metadata": {},
   "outputs": [
    {
     "name": "stderr",
     "output_type": "stream",
     "text": [
      "C:\\Users\\user\\AppData\\Local\\Temp\\ipykernel_15748\\2189804198.py:1: FutureWarning: The default value of numeric_only in DataFrame.corr is deprecated. In a future version, it will default to False. Select only valid columns or specify the value of numeric_only to silence this warning.\n",
      "  train.corr()\n"
     ]
    },
    {
     "data": {
      "text/html": [
       "<div>\n",
       "<style scoped>\n",
       "    .dataframe tbody tr th:only-of-type {\n",
       "        vertical-align: middle;\n",
       "    }\n",
       "\n",
       "    .dataframe tbody tr th {\n",
       "        vertical-align: top;\n",
       "    }\n",
       "\n",
       "    .dataframe thead th {\n",
       "        text-align: right;\n",
       "    }\n",
       "</style>\n",
       "<table border=\"1\" class=\"dataframe\">\n",
       "  <thead>\n",
       "    <tr style=\"text-align: right;\">\n",
       "      <th></th>\n",
       "      <th>member_id</th>\n",
       "      <th>loan_amnt</th>\n",
       "      <th>funded_amnt</th>\n",
       "      <th>funded_amnt_inv</th>\n",
       "      <th>int_rate</th>\n",
       "      <th>annual_inc</th>\n",
       "      <th>dti</th>\n",
       "      <th>mths_since_last_delinq</th>\n",
       "      <th>mths_since_last_record</th>\n",
       "      <th>open_acc</th>\n",
       "      <th>...</th>\n",
       "      <th>total_rec_late_fee</th>\n",
       "      <th>recoveries</th>\n",
       "      <th>collection_recovery_fee</th>\n",
       "      <th>collections_12_mths_ex_med</th>\n",
       "      <th>mths_since_last_major_derog</th>\n",
       "      <th>acc_now_delinq</th>\n",
       "      <th>tot_coll_amt</th>\n",
       "      <th>tot_cur_bal</th>\n",
       "      <th>total_rev_hi_lim</th>\n",
       "      <th>loan_status</th>\n",
       "    </tr>\n",
       "  </thead>\n",
       "  <tbody>\n",
       "    <tr>\n",
       "      <th>member_id</th>\n",
       "      <td>1.000000</td>\n",
       "      <td>0.065607</td>\n",
       "      <td>0.067888</td>\n",
       "      <td>0.073426</td>\n",
       "      <td>-0.141030</td>\n",
       "      <td>0.034649</td>\n",
       "      <td>0.134179</td>\n",
       "      <td>-0.008538</td>\n",
       "      <td>-0.161942</td>\n",
       "      <td>0.087966</td>\n",
       "      <td>...</td>\n",
       "      <td>-0.075700</td>\n",
       "      <td>-0.113868</td>\n",
       "      <td>-0.072498</td>\n",
       "      <td>0.051447</td>\n",
       "      <td>0.056741</td>\n",
       "      <td>0.017607</td>\n",
       "      <td>0.026725</td>\n",
       "      <td>0.007278</td>\n",
       "      <td>0.046108</td>\n",
       "      <td>-0.489753</td>\n",
       "    </tr>\n",
       "    <tr>\n",
       "      <th>loan_amnt</th>\n",
       "      <td>0.065607</td>\n",
       "      <td>1.000000</td>\n",
       "      <td>0.999276</td>\n",
       "      <td>0.997124</td>\n",
       "      <td>0.145037</td>\n",
       "      <td>0.330655</td>\n",
       "      <td>0.041866</td>\n",
       "      <td>-0.038069</td>\n",
       "      <td>-0.012130</td>\n",
       "      <td>0.197630</td>\n",
       "      <td>...</td>\n",
       "      <td>0.031374</td>\n",
       "      <td>0.073326</td>\n",
       "      <td>0.052995</td>\n",
       "      <td>-0.014822</td>\n",
       "      <td>-0.037226</td>\n",
       "      <td>0.003196</td>\n",
       "      <td>-0.019994</td>\n",
       "      <td>0.327957</td>\n",
       "      <td>0.307989</td>\n",
       "      <td>-0.095713</td>\n",
       "    </tr>\n",
       "    <tr>\n",
       "      <th>funded_amnt</th>\n",
       "      <td>0.067888</td>\n",
       "      <td>0.999276</td>\n",
       "      <td>1.000000</td>\n",
       "      <td>0.998041</td>\n",
       "      <td>0.145222</td>\n",
       "      <td>0.330493</td>\n",
       "      <td>0.042699</td>\n",
       "      <td>-0.038058</td>\n",
       "      <td>-0.012119</td>\n",
       "      <td>0.198078</td>\n",
       "      <td>...</td>\n",
       "      <td>0.031022</td>\n",
       "      <td>0.072895</td>\n",
       "      <td>0.052797</td>\n",
       "      <td>-0.014663</td>\n",
       "      <td>-0.037214</td>\n",
       "      <td>0.003298</td>\n",
       "      <td>-0.019994</td>\n",
       "      <td>0.327955</td>\n",
       "      <td>0.307988</td>\n",
       "      <td>-0.097563</td>\n",
       "    </tr>\n",
       "    <tr>\n",
       "      <th>funded_amnt_inv</th>\n",
       "      <td>0.073426</td>\n",
       "      <td>0.997124</td>\n",
       "      <td>0.998041</td>\n",
       "      <td>1.000000</td>\n",
       "      <td>0.145251</td>\n",
       "      <td>0.329495</td>\n",
       "      <td>0.044952</td>\n",
       "      <td>-0.035713</td>\n",
       "      <td>0.007380</td>\n",
       "      <td>0.198672</td>\n",
       "      <td>...</td>\n",
       "      <td>0.027770</td>\n",
       "      <td>0.071242</td>\n",
       "      <td>0.050261</td>\n",
       "      <td>-0.014240</td>\n",
       "      <td>-0.037181</td>\n",
       "      <td>0.003473</td>\n",
       "      <td>-0.019995</td>\n",
       "      <td>0.327981</td>\n",
       "      <td>0.308022</td>\n",
       "      <td>-0.101877</td>\n",
       "    </tr>\n",
       "    <tr>\n",
       "      <th>int_rate</th>\n",
       "      <td>-0.141030</td>\n",
       "      <td>0.145037</td>\n",
       "      <td>0.145222</td>\n",
       "      <td>0.145251</td>\n",
       "      <td>1.000000</td>\n",
       "      <td>-0.072061</td>\n",
       "      <td>0.163206</td>\n",
       "      <td>-0.032966</td>\n",
       "      <td>0.027094</td>\n",
       "      <td>-0.009115</td>\n",
       "      <td>...</td>\n",
       "      <td>0.056141</td>\n",
       "      <td>0.107292</td>\n",
       "      <td>0.071187</td>\n",
       "      <td>0.013924</td>\n",
       "      <td>-0.013878</td>\n",
       "      <td>0.026984</td>\n",
       "      <td>0.002744</td>\n",
       "      <td>-0.091506</td>\n",
       "      <td>-0.164408</td>\n",
       "      <td>0.002590</td>\n",
       "    </tr>\n",
       "    <tr>\n",
       "      <th>annual_inc</th>\n",
       "      <td>0.034649</td>\n",
       "      <td>0.330655</td>\n",
       "      <td>0.330493</td>\n",
       "      <td>0.329495</td>\n",
       "      <td>-0.072061</td>\n",
       "      <td>1.000000</td>\n",
       "      <td>-0.175867</td>\n",
       "      <td>-0.051903</td>\n",
       "      <td>-0.104513</td>\n",
       "      <td>0.134948</td>\n",
       "      <td>...</td>\n",
       "      <td>0.013254</td>\n",
       "      <td>0.007190</td>\n",
       "      <td>0.006332</td>\n",
       "      <td>-0.003960</td>\n",
       "      <td>-0.039256</td>\n",
       "      <td>0.014906</td>\n",
       "      <td>0.000196</td>\n",
       "      <td>0.416120</td>\n",
       "      <td>0.265846</td>\n",
       "      <td>-0.008596</td>\n",
       "    </tr>\n",
       "    <tr>\n",
       "      <th>dti</th>\n",
       "      <td>0.134179</td>\n",
       "      <td>0.041866</td>\n",
       "      <td>0.042699</td>\n",
       "      <td>0.044952</td>\n",
       "      <td>0.163206</td>\n",
       "      <td>-0.175867</td>\n",
       "      <td>1.000000</td>\n",
       "      <td>0.006087</td>\n",
       "      <td>0.066515</td>\n",
       "      <td>0.297186</td>\n",
       "      <td>...</td>\n",
       "      <td>-0.011336</td>\n",
       "      <td>0.002544</td>\n",
       "      <td>0.003708</td>\n",
       "      <td>0.001032</td>\n",
       "      <td>0.028913</td>\n",
       "      <td>0.007267</td>\n",
       "      <td>-0.016416</td>\n",
       "      <td>-0.014336</td>\n",
       "      <td>0.067941</td>\n",
       "      <td>-0.134020</td>\n",
       "    </tr>\n",
       "    <tr>\n",
       "      <th>mths_since_last_delinq</th>\n",
       "      <td>-0.008538</td>\n",
       "      <td>-0.038069</td>\n",
       "      <td>-0.038058</td>\n",
       "      <td>-0.035713</td>\n",
       "      <td>-0.032966</td>\n",
       "      <td>-0.051903</td>\n",
       "      <td>0.006087</td>\n",
       "      <td>1.000000</td>\n",
       "      <td>0.021387</td>\n",
       "      <td>-0.045759</td>\n",
       "      <td>...</td>\n",
       "      <td>-0.021201</td>\n",
       "      <td>-0.002314</td>\n",
       "      <td>-0.002755</td>\n",
       "      <td>-0.034682</td>\n",
       "      <td>0.699173</td>\n",
       "      <td>-0.136883</td>\n",
       "      <td>0.032696</td>\n",
       "      <td>-0.094698</td>\n",
       "      <td>-0.024684</td>\n",
       "      <td>0.029236</td>\n",
       "    </tr>\n",
       "    <tr>\n",
       "      <th>mths_since_last_record</th>\n",
       "      <td>-0.161942</td>\n",
       "      <td>-0.012130</td>\n",
       "      <td>-0.012119</td>\n",
       "      <td>0.007380</td>\n",
       "      <td>0.027094</td>\n",
       "      <td>-0.104513</td>\n",
       "      <td>0.066515</td>\n",
       "      <td>0.021387</td>\n",
       "      <td>1.000000</td>\n",
       "      <td>0.005921</td>\n",
       "      <td>...</td>\n",
       "      <td>-0.028594</td>\n",
       "      <td>0.012661</td>\n",
       "      <td>0.001137</td>\n",
       "      <td>-0.021165</td>\n",
       "      <td>0.032133</td>\n",
       "      <td>-0.016221</td>\n",
       "      <td>-0.065135</td>\n",
       "      <td>-0.028431</td>\n",
       "      <td>-0.033476</td>\n",
       "      <td>0.073566</td>\n",
       "    </tr>\n",
       "    <tr>\n",
       "      <th>open_acc</th>\n",
       "      <td>0.087966</td>\n",
       "      <td>0.197630</td>\n",
       "      <td>0.198078</td>\n",
       "      <td>0.198672</td>\n",
       "      <td>-0.009115</td>\n",
       "      <td>0.134948</td>\n",
       "      <td>0.297186</td>\n",
       "      <td>-0.045759</td>\n",
       "      <td>0.005921</td>\n",
       "      <td>1.000000</td>\n",
       "      <td>...</td>\n",
       "      <td>-0.009947</td>\n",
       "      <td>0.000874</td>\n",
       "      <td>0.002537</td>\n",
       "      <td>0.010917</td>\n",
       "      <td>0.008122</td>\n",
       "      <td>0.017665</td>\n",
       "      <td>0.003453</td>\n",
       "      <td>0.243723</td>\n",
       "      <td>0.319794</td>\n",
       "      <td>-0.065048</td>\n",
       "    </tr>\n",
       "    <tr>\n",
       "      <th>revol_bal</th>\n",
       "      <td>0.035607</td>\n",
       "      <td>0.333944</td>\n",
       "      <td>0.333785</td>\n",
       "      <td>0.331935</td>\n",
       "      <td>-0.035814</td>\n",
       "      <td>0.297585</td>\n",
       "      <td>0.136762</td>\n",
       "      <td>-0.025926</td>\n",
       "      <td>-0.033118</td>\n",
       "      <td>0.222968</td>\n",
       "      <td>...</td>\n",
       "      <td>0.002605</td>\n",
       "      <td>0.011231</td>\n",
       "      <td>0.008699</td>\n",
       "      <td>-0.022619</td>\n",
       "      <td>-0.019559</td>\n",
       "      <td>-0.000863</td>\n",
       "      <td>-0.029147</td>\n",
       "      <td>0.442235</td>\n",
       "      <td>0.815859</td>\n",
       "      <td>-0.040051</td>\n",
       "    </tr>\n",
       "    <tr>\n",
       "      <th>revol_util</th>\n",
       "      <td>-0.053282</td>\n",
       "      <td>0.119956</td>\n",
       "      <td>0.120507</td>\n",
       "      <td>0.121167</td>\n",
       "      <td>0.269350</td>\n",
       "      <td>0.037232</td>\n",
       "      <td>0.178378</td>\n",
       "      <td>0.013310</td>\n",
       "      <td>0.091274</td>\n",
       "      <td>-0.143906</td>\n",
       "      <td>...</td>\n",
       "      <td>0.021292</td>\n",
       "      <td>0.028303</td>\n",
       "      <td>0.019120</td>\n",
       "      <td>-0.036243</td>\n",
       "      <td>-0.011957</td>\n",
       "      <td>-0.027892</td>\n",
       "      <td>-0.043648</td>\n",
       "      <td>0.081794</td>\n",
       "      <td>-0.115926</td>\n",
       "      <td>-0.047196</td>\n",
       "    </tr>\n",
       "    <tr>\n",
       "      <th>total_acc</th>\n",
       "      <td>0.030643</td>\n",
       "      <td>0.220704</td>\n",
       "      <td>0.220597</td>\n",
       "      <td>0.220762</td>\n",
       "      <td>-0.037465</td>\n",
       "      <td>0.183933</td>\n",
       "      <td>0.222405</td>\n",
       "      <td>-0.046523</td>\n",
       "      <td>-0.181729</td>\n",
       "      <td>0.695061</td>\n",
       "      <td>...</td>\n",
       "      <td>-0.003916</td>\n",
       "      <td>0.009226</td>\n",
       "      <td>0.010184</td>\n",
       "      <td>0.009888</td>\n",
       "      <td>-0.047453</td>\n",
       "      <td>0.026256</td>\n",
       "      <td>0.027950</td>\n",
       "      <td>0.310433</td>\n",
       "      <td>0.251165</td>\n",
       "      <td>-0.002631</td>\n",
       "    </tr>\n",
       "    <tr>\n",
       "      <th>total_rec_int</th>\n",
       "      <td>-0.461192</td>\n",
       "      <td>0.532580</td>\n",
       "      <td>0.531616</td>\n",
       "      <td>0.529116</td>\n",
       "      <td>0.445634</td>\n",
       "      <td>0.127483</td>\n",
       "      <td>0.018475</td>\n",
       "      <td>-0.030993</td>\n",
       "      <td>0.083080</td>\n",
       "      <td>0.062011</td>\n",
       "      <td>...</td>\n",
       "      <td>0.089639</td>\n",
       "      <td>0.067858</td>\n",
       "      <td>0.051926</td>\n",
       "      <td>-0.023869</td>\n",
       "      <td>-0.058309</td>\n",
       "      <td>0.001156</td>\n",
       "      <td>-0.019355</td>\n",
       "      <td>0.131922</td>\n",
       "      <td>0.071980</td>\n",
       "      <td>0.038344</td>\n",
       "    </tr>\n",
       "    <tr>\n",
       "      <th>total_rec_late_fee</th>\n",
       "      <td>-0.075700</td>\n",
       "      <td>0.031374</td>\n",
       "      <td>0.031022</td>\n",
       "      <td>0.027770</td>\n",
       "      <td>0.056141</td>\n",
       "      <td>0.013254</td>\n",
       "      <td>-0.011336</td>\n",
       "      <td>-0.021201</td>\n",
       "      <td>-0.028594</td>\n",
       "      <td>-0.009947</td>\n",
       "      <td>...</td>\n",
       "      <td>1.000000</td>\n",
       "      <td>0.071578</td>\n",
       "      <td>0.064764</td>\n",
       "      <td>-0.003390</td>\n",
       "      <td>-0.007711</td>\n",
       "      <td>0.002448</td>\n",
       "      <td>-0.003160</td>\n",
       "      <td>0.011786</td>\n",
       "      <td>-0.005502</td>\n",
       "      <td>-0.004353</td>\n",
       "    </tr>\n",
       "    <tr>\n",
       "      <th>recoveries</th>\n",
       "      <td>-0.113868</td>\n",
       "      <td>0.073326</td>\n",
       "      <td>0.072895</td>\n",
       "      <td>0.071242</td>\n",
       "      <td>0.107292</td>\n",
       "      <td>0.007190</td>\n",
       "      <td>0.002544</td>\n",
       "      <td>-0.002314</td>\n",
       "      <td>0.012661</td>\n",
       "      <td>0.000874</td>\n",
       "      <td>...</td>\n",
       "      <td>0.071578</td>\n",
       "      <td>1.000000</td>\n",
       "      <td>0.800538</td>\n",
       "      <td>-0.004788</td>\n",
       "      <td>-0.013307</td>\n",
       "      <td>0.001148</td>\n",
       "      <td>-0.004684</td>\n",
       "      <td>0.004769</td>\n",
       "      <td>0.001163</td>\n",
       "      <td>-0.062084</td>\n",
       "    </tr>\n",
       "    <tr>\n",
       "      <th>collection_recovery_fee</th>\n",
       "      <td>-0.072498</td>\n",
       "      <td>0.052995</td>\n",
       "      <td>0.052797</td>\n",
       "      <td>0.050261</td>\n",
       "      <td>0.071187</td>\n",
       "      <td>0.006332</td>\n",
       "      <td>0.003708</td>\n",
       "      <td>-0.002755</td>\n",
       "      <td>0.001137</td>\n",
       "      <td>0.002537</td>\n",
       "      <td>...</td>\n",
       "      <td>0.064764</td>\n",
       "      <td>0.800538</td>\n",
       "      <td>1.000000</td>\n",
       "      <td>-0.002556</td>\n",
       "      <td>-0.008602</td>\n",
       "      <td>0.000301</td>\n",
       "      <td>-0.002861</td>\n",
       "      <td>0.006069</td>\n",
       "      <td>0.002447</td>\n",
       "      <td>-0.042823</td>\n",
       "    </tr>\n",
       "    <tr>\n",
       "      <th>collections_12_mths_ex_med</th>\n",
       "      <td>0.051447</td>\n",
       "      <td>-0.014822</td>\n",
       "      <td>-0.014663</td>\n",
       "      <td>-0.014240</td>\n",
       "      <td>0.013924</td>\n",
       "      <td>-0.003960</td>\n",
       "      <td>0.001032</td>\n",
       "      <td>-0.034682</td>\n",
       "      <td>-0.021165</td>\n",
       "      <td>0.010917</td>\n",
       "      <td>...</td>\n",
       "      <td>-0.003390</td>\n",
       "      <td>-0.004788</td>\n",
       "      <td>-0.002556</td>\n",
       "      <td>1.000000</td>\n",
       "      <td>-0.102308</td>\n",
       "      <td>0.052459</td>\n",
       "      <td>0.053011</td>\n",
       "      <td>-0.010656</td>\n",
       "      <td>-0.016556</td>\n",
       "      <td>-0.033922</td>\n",
       "    </tr>\n",
       "    <tr>\n",
       "      <th>mths_since_last_major_derog</th>\n",
       "      <td>0.056741</td>\n",
       "      <td>-0.037226</td>\n",
       "      <td>-0.037214</td>\n",
       "      <td>-0.037181</td>\n",
       "      <td>-0.013878</td>\n",
       "      <td>-0.039256</td>\n",
       "      <td>0.028913</td>\n",
       "      <td>0.699173</td>\n",
       "      <td>0.032133</td>\n",
       "      <td>0.008122</td>\n",
       "      <td>...</td>\n",
       "      <td>-0.007711</td>\n",
       "      <td>-0.013307</td>\n",
       "      <td>-0.008602</td>\n",
       "      <td>-0.102308</td>\n",
       "      <td>1.000000</td>\n",
       "      <td>-0.109442</td>\n",
       "      <td>0.029274</td>\n",
       "      <td>-0.070526</td>\n",
       "      <td>-0.018727</td>\n",
       "      <td>-0.010214</td>\n",
       "    </tr>\n",
       "    <tr>\n",
       "      <th>acc_now_delinq</th>\n",
       "      <td>0.017607</td>\n",
       "      <td>0.003196</td>\n",
       "      <td>0.003298</td>\n",
       "      <td>0.003473</td>\n",
       "      <td>0.026984</td>\n",
       "      <td>0.014906</td>\n",
       "      <td>0.007267</td>\n",
       "      <td>-0.136883</td>\n",
       "      <td>-0.016221</td>\n",
       "      <td>0.017665</td>\n",
       "      <td>...</td>\n",
       "      <td>0.002448</td>\n",
       "      <td>0.001148</td>\n",
       "      <td>0.000301</td>\n",
       "      <td>0.052459</td>\n",
       "      <td>-0.109442</td>\n",
       "      <td>1.000000</td>\n",
       "      <td>0.000672</td>\n",
       "      <td>0.023985</td>\n",
       "      <td>0.007547</td>\n",
       "      <td>-0.014415</td>\n",
       "    </tr>\n",
       "    <tr>\n",
       "      <th>tot_coll_amt</th>\n",
       "      <td>0.026725</td>\n",
       "      <td>-0.019994</td>\n",
       "      <td>-0.019994</td>\n",
       "      <td>-0.019995</td>\n",
       "      <td>0.002744</td>\n",
       "      <td>0.000196</td>\n",
       "      <td>-0.016416</td>\n",
       "      <td>0.032696</td>\n",
       "      <td>-0.065135</td>\n",
       "      <td>0.003453</td>\n",
       "      <td>...</td>\n",
       "      <td>-0.003160</td>\n",
       "      <td>-0.004684</td>\n",
       "      <td>-0.002861</td>\n",
       "      <td>0.053011</td>\n",
       "      <td>0.029274</td>\n",
       "      <td>0.000672</td>\n",
       "      <td>1.000000</td>\n",
       "      <td>-0.006267</td>\n",
       "      <td>-0.023475</td>\n",
       "      <td>-0.013165</td>\n",
       "    </tr>\n",
       "    <tr>\n",
       "      <th>tot_cur_bal</th>\n",
       "      <td>0.007278</td>\n",
       "      <td>0.327957</td>\n",
       "      <td>0.327955</td>\n",
       "      <td>0.327981</td>\n",
       "      <td>-0.091506</td>\n",
       "      <td>0.416120</td>\n",
       "      <td>-0.014336</td>\n",
       "      <td>-0.094698</td>\n",
       "      <td>-0.028431</td>\n",
       "      <td>0.243723</td>\n",
       "      <td>...</td>\n",
       "      <td>0.011786</td>\n",
       "      <td>0.004769</td>\n",
       "      <td>0.006069</td>\n",
       "      <td>-0.010656</td>\n",
       "      <td>-0.070526</td>\n",
       "      <td>0.023985</td>\n",
       "      <td>-0.006267</td>\n",
       "      <td>1.000000</td>\n",
       "      <td>0.380439</td>\n",
       "      <td>0.014579</td>\n",
       "    </tr>\n",
       "    <tr>\n",
       "      <th>total_rev_hi_lim</th>\n",
       "      <td>0.046108</td>\n",
       "      <td>0.307989</td>\n",
       "      <td>0.307988</td>\n",
       "      <td>0.308022</td>\n",
       "      <td>-0.164408</td>\n",
       "      <td>0.265846</td>\n",
       "      <td>0.067941</td>\n",
       "      <td>-0.024684</td>\n",
       "      <td>-0.033476</td>\n",
       "      <td>0.319794</td>\n",
       "      <td>...</td>\n",
       "      <td>-0.005502</td>\n",
       "      <td>0.001163</td>\n",
       "      <td>0.002447</td>\n",
       "      <td>-0.016556</td>\n",
       "      <td>-0.018727</td>\n",
       "      <td>0.007547</td>\n",
       "      <td>-0.023475</td>\n",
       "      <td>0.380439</td>\n",
       "      <td>1.000000</td>\n",
       "      <td>-0.019547</td>\n",
       "    </tr>\n",
       "    <tr>\n",
       "      <th>loan_status</th>\n",
       "      <td>-0.489753</td>\n",
       "      <td>-0.095713</td>\n",
       "      <td>-0.097563</td>\n",
       "      <td>-0.101877</td>\n",
       "      <td>0.002590</td>\n",
       "      <td>-0.008596</td>\n",
       "      <td>-0.134020</td>\n",
       "      <td>0.029236</td>\n",
       "      <td>0.073566</td>\n",
       "      <td>-0.065048</td>\n",
       "      <td>...</td>\n",
       "      <td>-0.004353</td>\n",
       "      <td>-0.062084</td>\n",
       "      <td>-0.042823</td>\n",
       "      <td>-0.033922</td>\n",
       "      <td>-0.010214</td>\n",
       "      <td>-0.014415</td>\n",
       "      <td>-0.013165</td>\n",
       "      <td>0.014579</td>\n",
       "      <td>-0.019547</td>\n",
       "      <td>1.000000</td>\n",
       "    </tr>\n",
       "  </tbody>\n",
       "</table>\n",
       "<p>24 rows × 24 columns</p>\n",
       "</div>"
      ],
      "text/plain": [
       "                             member_id  loan_amnt  funded_amnt  \\\n",
       "member_id                     1.000000   0.065607     0.067888   \n",
       "loan_amnt                     0.065607   1.000000     0.999276   \n",
       "funded_amnt                   0.067888   0.999276     1.000000   \n",
       "funded_amnt_inv               0.073426   0.997124     0.998041   \n",
       "int_rate                     -0.141030   0.145037     0.145222   \n",
       "annual_inc                    0.034649   0.330655     0.330493   \n",
       "dti                           0.134179   0.041866     0.042699   \n",
       "mths_since_last_delinq       -0.008538  -0.038069    -0.038058   \n",
       "mths_since_last_record       -0.161942  -0.012130    -0.012119   \n",
       "open_acc                      0.087966   0.197630     0.198078   \n",
       "revol_bal                     0.035607   0.333944     0.333785   \n",
       "revol_util                   -0.053282   0.119956     0.120507   \n",
       "total_acc                     0.030643   0.220704     0.220597   \n",
       "total_rec_int                -0.461192   0.532580     0.531616   \n",
       "total_rec_late_fee           -0.075700   0.031374     0.031022   \n",
       "recoveries                   -0.113868   0.073326     0.072895   \n",
       "collection_recovery_fee      -0.072498   0.052995     0.052797   \n",
       "collections_12_mths_ex_med    0.051447  -0.014822    -0.014663   \n",
       "mths_since_last_major_derog   0.056741  -0.037226    -0.037214   \n",
       "acc_now_delinq                0.017607   0.003196     0.003298   \n",
       "tot_coll_amt                  0.026725  -0.019994    -0.019994   \n",
       "tot_cur_bal                   0.007278   0.327957     0.327955   \n",
       "total_rev_hi_lim              0.046108   0.307989     0.307988   \n",
       "loan_status                  -0.489753  -0.095713    -0.097563   \n",
       "\n",
       "                             funded_amnt_inv  int_rate  annual_inc       dti  \\\n",
       "member_id                           0.073426 -0.141030    0.034649  0.134179   \n",
       "loan_amnt                           0.997124  0.145037    0.330655  0.041866   \n",
       "funded_amnt                         0.998041  0.145222    0.330493  0.042699   \n",
       "funded_amnt_inv                     1.000000  0.145251    0.329495  0.044952   \n",
       "int_rate                            0.145251  1.000000   -0.072061  0.163206   \n",
       "annual_inc                          0.329495 -0.072061    1.000000 -0.175867   \n",
       "dti                                 0.044952  0.163206   -0.175867  1.000000   \n",
       "mths_since_last_delinq             -0.035713 -0.032966   -0.051903  0.006087   \n",
       "mths_since_last_record              0.007380  0.027094   -0.104513  0.066515   \n",
       "open_acc                            0.198672 -0.009115    0.134948  0.297186   \n",
       "revol_bal                           0.331935 -0.035814    0.297585  0.136762   \n",
       "revol_util                          0.121167  0.269350    0.037232  0.178378   \n",
       "total_acc                           0.220762 -0.037465    0.183933  0.222405   \n",
       "total_rec_int                       0.529116  0.445634    0.127483  0.018475   \n",
       "total_rec_late_fee                  0.027770  0.056141    0.013254 -0.011336   \n",
       "recoveries                          0.071242  0.107292    0.007190  0.002544   \n",
       "collection_recovery_fee             0.050261  0.071187    0.006332  0.003708   \n",
       "collections_12_mths_ex_med         -0.014240  0.013924   -0.003960  0.001032   \n",
       "mths_since_last_major_derog        -0.037181 -0.013878   -0.039256  0.028913   \n",
       "acc_now_delinq                      0.003473  0.026984    0.014906  0.007267   \n",
       "tot_coll_amt                       -0.019995  0.002744    0.000196 -0.016416   \n",
       "tot_cur_bal                         0.327981 -0.091506    0.416120 -0.014336   \n",
       "total_rev_hi_lim                    0.308022 -0.164408    0.265846  0.067941   \n",
       "loan_status                        -0.101877  0.002590   -0.008596 -0.134020   \n",
       "\n",
       "                             mths_since_last_delinq  mths_since_last_record  \\\n",
       "member_id                                 -0.008538               -0.161942   \n",
       "loan_amnt                                 -0.038069               -0.012130   \n",
       "funded_amnt                               -0.038058               -0.012119   \n",
       "funded_amnt_inv                           -0.035713                0.007380   \n",
       "int_rate                                  -0.032966                0.027094   \n",
       "annual_inc                                -0.051903               -0.104513   \n",
       "dti                                        0.006087                0.066515   \n",
       "mths_since_last_delinq                     1.000000                0.021387   \n",
       "mths_since_last_record                     0.021387                1.000000   \n",
       "open_acc                                  -0.045759                0.005921   \n",
       "revol_bal                                 -0.025926               -0.033118   \n",
       "revol_util                                 0.013310                0.091274   \n",
       "total_acc                                 -0.046523               -0.181729   \n",
       "total_rec_int                             -0.030993                0.083080   \n",
       "total_rec_late_fee                        -0.021201               -0.028594   \n",
       "recoveries                                -0.002314                0.012661   \n",
       "collection_recovery_fee                   -0.002755                0.001137   \n",
       "collections_12_mths_ex_med                -0.034682               -0.021165   \n",
       "mths_since_last_major_derog                0.699173                0.032133   \n",
       "acc_now_delinq                            -0.136883               -0.016221   \n",
       "tot_coll_amt                               0.032696               -0.065135   \n",
       "tot_cur_bal                               -0.094698               -0.028431   \n",
       "total_rev_hi_lim                          -0.024684               -0.033476   \n",
       "loan_status                                0.029236                0.073566   \n",
       "\n",
       "                             open_acc  ...  total_rec_late_fee  recoveries  \\\n",
       "member_id                    0.087966  ...           -0.075700   -0.113868   \n",
       "loan_amnt                    0.197630  ...            0.031374    0.073326   \n",
       "funded_amnt                  0.198078  ...            0.031022    0.072895   \n",
       "funded_amnt_inv              0.198672  ...            0.027770    0.071242   \n",
       "int_rate                    -0.009115  ...            0.056141    0.107292   \n",
       "annual_inc                   0.134948  ...            0.013254    0.007190   \n",
       "dti                          0.297186  ...           -0.011336    0.002544   \n",
       "mths_since_last_delinq      -0.045759  ...           -0.021201   -0.002314   \n",
       "mths_since_last_record       0.005921  ...           -0.028594    0.012661   \n",
       "open_acc                     1.000000  ...           -0.009947    0.000874   \n",
       "revol_bal                    0.222968  ...            0.002605    0.011231   \n",
       "revol_util                  -0.143906  ...            0.021292    0.028303   \n",
       "total_acc                    0.695061  ...           -0.003916    0.009226   \n",
       "total_rec_int                0.062011  ...            0.089639    0.067858   \n",
       "total_rec_late_fee          -0.009947  ...            1.000000    0.071578   \n",
       "recoveries                   0.000874  ...            0.071578    1.000000   \n",
       "collection_recovery_fee      0.002537  ...            0.064764    0.800538   \n",
       "collections_12_mths_ex_med   0.010917  ...           -0.003390   -0.004788   \n",
       "mths_since_last_major_derog  0.008122  ...           -0.007711   -0.013307   \n",
       "acc_now_delinq               0.017665  ...            0.002448    0.001148   \n",
       "tot_coll_amt                 0.003453  ...           -0.003160   -0.004684   \n",
       "tot_cur_bal                  0.243723  ...            0.011786    0.004769   \n",
       "total_rev_hi_lim             0.319794  ...           -0.005502    0.001163   \n",
       "loan_status                 -0.065048  ...           -0.004353   -0.062084   \n",
       "\n",
       "                             collection_recovery_fee  \\\n",
       "member_id                                  -0.072498   \n",
       "loan_amnt                                   0.052995   \n",
       "funded_amnt                                 0.052797   \n",
       "funded_amnt_inv                             0.050261   \n",
       "int_rate                                    0.071187   \n",
       "annual_inc                                  0.006332   \n",
       "dti                                         0.003708   \n",
       "mths_since_last_delinq                     -0.002755   \n",
       "mths_since_last_record                      0.001137   \n",
       "open_acc                                    0.002537   \n",
       "revol_bal                                   0.008699   \n",
       "revol_util                                  0.019120   \n",
       "total_acc                                   0.010184   \n",
       "total_rec_int                               0.051926   \n",
       "total_rec_late_fee                          0.064764   \n",
       "recoveries                                  0.800538   \n",
       "collection_recovery_fee                     1.000000   \n",
       "collections_12_mths_ex_med                 -0.002556   \n",
       "mths_since_last_major_derog                -0.008602   \n",
       "acc_now_delinq                              0.000301   \n",
       "tot_coll_amt                               -0.002861   \n",
       "tot_cur_bal                                 0.006069   \n",
       "total_rev_hi_lim                            0.002447   \n",
       "loan_status                                -0.042823   \n",
       "\n",
       "                             collections_12_mths_ex_med  \\\n",
       "member_id                                      0.051447   \n",
       "loan_amnt                                     -0.014822   \n",
       "funded_amnt                                   -0.014663   \n",
       "funded_amnt_inv                               -0.014240   \n",
       "int_rate                                       0.013924   \n",
       "annual_inc                                    -0.003960   \n",
       "dti                                            0.001032   \n",
       "mths_since_last_delinq                        -0.034682   \n",
       "mths_since_last_record                        -0.021165   \n",
       "open_acc                                       0.010917   \n",
       "revol_bal                                     -0.022619   \n",
       "revol_util                                    -0.036243   \n",
       "total_acc                                      0.009888   \n",
       "total_rec_int                                 -0.023869   \n",
       "total_rec_late_fee                            -0.003390   \n",
       "recoveries                                    -0.004788   \n",
       "collection_recovery_fee                       -0.002556   \n",
       "collections_12_mths_ex_med                     1.000000   \n",
       "mths_since_last_major_derog                   -0.102308   \n",
       "acc_now_delinq                                 0.052459   \n",
       "tot_coll_amt                                   0.053011   \n",
       "tot_cur_bal                                   -0.010656   \n",
       "total_rev_hi_lim                              -0.016556   \n",
       "loan_status                                   -0.033922   \n",
       "\n",
       "                             mths_since_last_major_derog  acc_now_delinq  \\\n",
       "member_id                                       0.056741        0.017607   \n",
       "loan_amnt                                      -0.037226        0.003196   \n",
       "funded_amnt                                    -0.037214        0.003298   \n",
       "funded_amnt_inv                                -0.037181        0.003473   \n",
       "int_rate                                       -0.013878        0.026984   \n",
       "annual_inc                                     -0.039256        0.014906   \n",
       "dti                                             0.028913        0.007267   \n",
       "mths_since_last_delinq                          0.699173       -0.136883   \n",
       "mths_since_last_record                          0.032133       -0.016221   \n",
       "open_acc                                        0.008122        0.017665   \n",
       "revol_bal                                      -0.019559       -0.000863   \n",
       "revol_util                                     -0.011957       -0.027892   \n",
       "total_acc                                      -0.047453        0.026256   \n",
       "total_rec_int                                  -0.058309        0.001156   \n",
       "total_rec_late_fee                             -0.007711        0.002448   \n",
       "recoveries                                     -0.013307        0.001148   \n",
       "collection_recovery_fee                        -0.008602        0.000301   \n",
       "collections_12_mths_ex_med                     -0.102308        0.052459   \n",
       "mths_since_last_major_derog                     1.000000       -0.109442   \n",
       "acc_now_delinq                                 -0.109442        1.000000   \n",
       "tot_coll_amt                                    0.029274        0.000672   \n",
       "tot_cur_bal                                    -0.070526        0.023985   \n",
       "total_rev_hi_lim                               -0.018727        0.007547   \n",
       "loan_status                                    -0.010214       -0.014415   \n",
       "\n",
       "                             tot_coll_amt  tot_cur_bal  total_rev_hi_lim  \\\n",
       "member_id                        0.026725     0.007278          0.046108   \n",
       "loan_amnt                       -0.019994     0.327957          0.307989   \n",
       "funded_amnt                     -0.019994     0.327955          0.307988   \n",
       "funded_amnt_inv                 -0.019995     0.327981          0.308022   \n",
       "int_rate                         0.002744    -0.091506         -0.164408   \n",
       "annual_inc                       0.000196     0.416120          0.265846   \n",
       "dti                             -0.016416    -0.014336          0.067941   \n",
       "mths_since_last_delinq           0.032696    -0.094698         -0.024684   \n",
       "mths_since_last_record          -0.065135    -0.028431         -0.033476   \n",
       "open_acc                         0.003453     0.243723          0.319794   \n",
       "revol_bal                       -0.029147     0.442235          0.815859   \n",
       "revol_util                      -0.043648     0.081794         -0.115926   \n",
       "total_acc                        0.027950     0.310433          0.251165   \n",
       "total_rec_int                   -0.019355     0.131922          0.071980   \n",
       "total_rec_late_fee              -0.003160     0.011786         -0.005502   \n",
       "recoveries                      -0.004684     0.004769          0.001163   \n",
       "collection_recovery_fee         -0.002861     0.006069          0.002447   \n",
       "collections_12_mths_ex_med       0.053011    -0.010656         -0.016556   \n",
       "mths_since_last_major_derog      0.029274    -0.070526         -0.018727   \n",
       "acc_now_delinq                   0.000672     0.023985          0.007547   \n",
       "tot_coll_amt                     1.000000    -0.006267         -0.023475   \n",
       "tot_cur_bal                     -0.006267     1.000000          0.380439   \n",
       "total_rev_hi_lim                -0.023475     0.380439          1.000000   \n",
       "loan_status                     -0.013165     0.014579         -0.019547   \n",
       "\n",
       "                             loan_status  \n",
       "member_id                      -0.489753  \n",
       "loan_amnt                      -0.095713  \n",
       "funded_amnt                    -0.097563  \n",
       "funded_amnt_inv                -0.101877  \n",
       "int_rate                        0.002590  \n",
       "annual_inc                     -0.008596  \n",
       "dti                            -0.134020  \n",
       "mths_since_last_delinq          0.029236  \n",
       "mths_since_last_record          0.073566  \n",
       "open_acc                       -0.065048  \n",
       "revol_bal                      -0.040051  \n",
       "revol_util                     -0.047196  \n",
       "total_acc                      -0.002631  \n",
       "total_rec_int                   0.038344  \n",
       "total_rec_late_fee             -0.004353  \n",
       "recoveries                     -0.062084  \n",
       "collection_recovery_fee        -0.042823  \n",
       "collections_12_mths_ex_med     -0.033922  \n",
       "mths_since_last_major_derog    -0.010214  \n",
       "acc_now_delinq                 -0.014415  \n",
       "tot_coll_amt                   -0.013165  \n",
       "tot_cur_bal                     0.014579  \n",
       "total_rev_hi_lim               -0.019547  \n",
       "loan_status                     1.000000  \n",
       "\n",
       "[24 rows x 24 columns]"
      ]
     },
     "execution_count": 42,
     "metadata": {},
     "output_type": "execute_result"
    }
   ],
   "source": [
    "train.corr()"
   ]
  },
  {
   "cell_type": "code",
   "execution_count": 43,
   "metadata": {},
   "outputs": [
    {
     "data": {
      "text/plain": [
       "member_id                           0\n",
       "loan_amnt                           0\n",
       "funded_amnt                         0\n",
       "funded_amnt_inv                     0\n",
       "term                                0\n",
       "int_rate                            0\n",
       "grade                               0\n",
       "emp_length                      26891\n",
       "home_ownership                      0\n",
       "annual_inc                          3\n",
       "dti                                 0\n",
       "mths_since_last_delinq         272554\n",
       "mths_since_last_record         450305\n",
       "open_acc                           16\n",
       "revol_bal                           0\n",
       "revol_util                        287\n",
       "total_acc                          16\n",
       "total_rec_int                       0\n",
       "total_rec_late_fee                  0\n",
       "recoveries                          0\n",
       "collection_recovery_fee             0\n",
       "collections_12_mths_ex_med         95\n",
       "mths_since_last_major_derog    399448\n",
       "emp_title                       30833\n",
       "last_week_pay                       0\n",
       "acc_now_delinq                     16\n",
       "tot_coll_amt                    42004\n",
       "tot_cur_bal                     42004\n",
       "total_rev_hi_lim                42004\n",
       "loan_status                         0\n",
       "dtype: int64"
      ]
     },
     "execution_count": 43,
     "metadata": {},
     "output_type": "execute_result"
    }
   ],
   "source": [
    "train.isnull().sum()"
   ]
  },
  {
   "cell_type": "code",
   "execution_count": 44,
   "metadata": {},
   "outputs": [
    {
     "data": {
      "text/plain": [
       "190124"
      ]
     },
     "execution_count": 44,
     "metadata": {},
     "output_type": "execute_result"
    }
   ],
   "source": [
    "train[\"emp_title\"].nunique()"
   ]
  },
  {
   "cell_type": "code",
   "execution_count": 45,
   "metadata": {},
   "outputs": [],
   "source": [
    "train.drop(\"emp_title\",axis=1,inplace=True)\n",
    "test.drop(\"emp_title\",axis=1,inplace=True)"
   ]
  },
  {
   "cell_type": "code",
   "execution_count": 46,
   "metadata": {},
   "outputs": [
    {
     "data": {
      "text/plain": [
       "11"
      ]
     },
     "execution_count": 46,
     "metadata": {},
     "output_type": "execute_result"
    }
   ],
   "source": [
    "train[\"emp_length\"].nunique()"
   ]
  },
  {
   "cell_type": "code",
   "execution_count": 47,
   "metadata": {},
   "outputs": [],
   "source": [
    "emp_order=['< 1 year',\n",
    " '1 year',\n",
    " '2 years',\n",
    " '3 years',\n",
    " '4 years',\n",
    " '5 years',\n",
    " '6 years',\n",
    " '7 years',\n",
    " '8 years',\n",
    " '9 years',\n",
    " '10+ years'\n",
    " ]"
   ]
  },
  {
   "cell_type": "code",
   "execution_count": 48,
   "metadata": {},
   "outputs": [
    {
     "data": {
      "text/plain": [
       "<AxesSubplot: xlabel='emp_length', ylabel='count'>"
      ]
     },
     "execution_count": 48,
     "metadata": {},
     "output_type": "execute_result"
    },
    {
     "data": {
      "image/png": "[encoded data removed]",
      "text/plain": [
       "<Figure size 1200x400 with 1 Axes>"
      ]
     },
     "metadata": {},
     "output_type": "display_data"
    }
   ],
   "source": [
    "plt.figure(figsize=(12,4))\n",
    "sns.countplot(x=\"emp_length\",data=train,order=emp_order,hue=\"loan_status\")"
   ]
  },
  {
   "cell_type": "code",
   "execution_count": 49,
   "metadata": {},
   "outputs": [],
   "source": [
    "train.drop(\"emp_length\",axis=1,inplace=True)\n",
    "test.drop(\"emp_length\",axis=1,inplace=True)"
   ]
  },
  {
   "cell_type": "code",
   "execution_count": 50,
   "metadata": {},
   "outputs": [
    {
     "data": {
      "text/plain": [
       "0         36 months\n",
       "1         36 months\n",
       "2         36 months\n",
       "3         36 months\n",
       "4         36 months\n",
       "            ...    \n",
       "532423    36 months\n",
       "532424    60 months\n",
       "532425    60 months\n",
       "532426    60 months\n",
       "532427    36 months\n",
       "Name: term, Length: 532428, dtype: object"
      ]
     },
     "execution_count": 50,
     "metadata": {},
     "output_type": "execute_result"
    }
   ],
   "source": [
    "train[\"term\"]"
   ]
  },
  {
   "cell_type": "code",
   "execution_count": 51,
   "metadata": {},
   "outputs": [],
   "source": [
    "train['term'].replace(to_replace=' months', value='', regex=True, inplace=True)\n",
    "test['term'].replace(to_replace=' months', value='', regex=True, inplace=True)\n",
    "train['term'] = pd.to_numeric(train['term'], errors='coerce')\n",
    "test['term'] = pd.to_numeric(test['term'], errors='coerce')"
   ]
  },
  {
   "cell_type": "code",
   "execution_count": 52,
   "metadata": {},
   "outputs": [],
   "source": [
    "train['last_week_pay'].replace(to_replace='th week', value='', regex=True, inplace=True)\n",
    "test['last_week_pay'].replace(to_replace='th week', value='', regex=True, inplace=True)\n",
    "train['last_week_pay'].replace(to_replace='NA', value='', regex=True, inplace=True)\n",
    "test['last_week_pay'].replace(to_replace='NA', value='', regex=True, inplace=True)\n",
    "train['last_week_pay'] = pd.to_numeric(train['last_week_pay'], errors='coerce')\n",
    "test['last_week_pay'] = pd.to_numeric(test['last_week_pay'], errors='coerce')"
   ]
  },
  {
   "cell_type": "code",
   "execution_count": 53,
   "metadata": {},
   "outputs": [
    {
     "name": "stdout",
     "output_type": "stream",
     "text": [
      "Median: term\n",
      "Median: loan_amnt\n",
      "Median: funded_amnt\n",
      "Median: last_week_pay\n",
      "Median: int_rate\n",
      "Median: annual_inc\n",
      "Median: dti\n",
      "Median: mths_since_last_delinq\n",
      "Median: mths_since_last_record\n",
      "Median: open_acc\n",
      "Median: revol_bal\n",
      "Median: revol_util\n",
      "Median: total_acc\n",
      "Median: total_rec_int\n",
      "Median: mths_since_last_major_derog\n",
      "Median: tot_coll_amt\n",
      "Median: tot_cur_bal\n",
      "Median: total_rev_hi_lim\n",
      "Zero: acc_now_delinq\n",
      "Zero: total_rec_late_fee\n",
      "Zero: recoveries\n",
      "Zero: collection_recovery_fee\n",
      "Zero: collections_12_mths_ex_med\n"
     ]
    }
   ],
   "source": [
    "cols = ['term', 'loan_amnt', 'funded_amnt', 'last_week_pay', 'int_rate', 'annual_inc', 'dti', 'mths_since_last_delinq', 'mths_since_last_record', 'open_acc', 'revol_bal', 'revol_util', 'total_acc', 'total_rec_int', 'mths_since_last_major_derog', 'tot_coll_amt', 'tot_cur_bal', 'total_rev_hi_lim']\n",
    "for col in cols:\n",
    "    print('Median: %s' % (col))\n",
    "    train[col].fillna(train[col].median(), inplace=True)\n",
    "    test[col].fillna(train[col].median(), inplace=True)\n",
    "\n",
    "cols = ['acc_now_delinq', 'total_rec_late_fee', 'recoveries', 'collection_recovery_fee', 'collections_12_mths_ex_med']\n",
    "for col in cols:\n",
    "    print('Zero: %s' % (col))\n",
    "    train[col].fillna(0, inplace=True)\n",
    "    test[col].fillna(0, inplace=True)"
   ]
  },
  {
   "cell_type": "code",
   "execution_count": 54,
   "metadata": {},
   "outputs": [
    {
     "data": {
      "text/plain": [
       "member_id                      0\n",
       "loan_amnt                      0\n",
       "funded_amnt                    0\n",
       "funded_amnt_inv                0\n",
       "term                           0\n",
       "int_rate                       0\n",
       "grade                          0\n",
       "home_ownership                 0\n",
       "annual_inc                     0\n",
       "dti                            0\n",
       "mths_since_last_delinq         0\n",
       "mths_since_last_record         0\n",
       "open_acc                       0\n",
       "revol_bal                      0\n",
       "revol_util                     0\n",
       "total_acc                      0\n",
       "total_rec_int                  0\n",
       "total_rec_late_fee             0\n",
       "recoveries                     0\n",
       "collection_recovery_fee        0\n",
       "collections_12_mths_ex_med     0\n",
       "mths_since_last_major_derog    0\n",
       "last_week_pay                  0\n",
       "acc_now_delinq                 0\n",
       "tot_coll_amt                   0\n",
       "tot_cur_bal                    0\n",
       "total_rev_hi_lim               0\n",
       "loan_status                    0\n",
       "dtype: int64"
      ]
     },
     "execution_count": 54,
     "metadata": {},
     "output_type": "execute_result"
    }
   ],
   "source": [
    "train.isnull().sum()"
   ]
  },
  {
   "cell_type": "code",
   "execution_count": 55,
   "metadata": {},
   "outputs": [
    {
     "data": {
      "text/plain": [
       "member_id                      0\n",
       "loan_amnt                      0\n",
       "funded_amnt                    0\n",
       "funded_amnt_inv                0\n",
       "term                           0\n",
       "int_rate                       0\n",
       "grade                          0\n",
       "home_ownership                 0\n",
       "annual_inc                     0\n",
       "dti                            0\n",
       "mths_since_last_delinq         0\n",
       "mths_since_last_record         0\n",
       "open_acc                       0\n",
       "revol_bal                      0\n",
       "revol_util                     0\n",
       "total_acc                      0\n",
       "total_rec_int                  0\n",
       "total_rec_late_fee             0\n",
       "recoveries                     0\n",
       "collection_recovery_fee        0\n",
       "collections_12_mths_ex_med     0\n",
       "mths_since_last_major_derog    0\n",
       "last_week_pay                  0\n",
       "acc_now_delinq                 0\n",
       "tot_coll_amt                   0\n",
       "tot_cur_bal                    0\n",
       "total_rev_hi_lim               0\n",
       "dtype: int64"
      ]
     },
     "execution_count": 55,
     "metadata": {},
     "output_type": "execute_result"
    }
   ],
   "source": [
    "test.isnull().sum()"
   ]
  },
  {
   "cell_type": "code",
   "execution_count": 56,
   "metadata": {},
   "outputs": [
    {
     "data": {
      "text/plain": [
       "0         E\n",
       "1         B\n",
       "2         A\n",
       "3         D\n",
       "4         B\n",
       "         ..\n",
       "532423    B\n",
       "532424    C\n",
       "532425    E\n",
       "532426    D\n",
       "532427    A\n",
       "Name: grade, Length: 532428, dtype: object"
      ]
     },
     "execution_count": 56,
     "metadata": {},
     "output_type": "execute_result"
    }
   ],
   "source": [
    "train[\"grade\"]"
   ]
  },
  {
   "cell_type": "code",
   "execution_count": 57,
   "metadata": {},
   "outputs": [
    {
     "data": {
      "text/html": [
       "<style>#sk-container-id-3 {color: black;background-color: white;}#sk-container-id-3 pre{padding: 0;}#sk-container-id-3 div.sk-toggleable {background-color: white;}#sk-container-id-3 label.sk-toggleable__label {cursor: pointer;display: block;width: 100%;margin-bottom: 0;padding: 0.3em;box-sizing: border-box;text-align: center;}#sk-container-id-3 label.sk-toggleable__label-arrow:before {content: \"▸\";float: left;margin-right: 0.25em;color: #696969;}#sk-container-id-3 label.sk-toggleable__label-arrow:hover:before {color: black;}#sk-container-id-3 div.sk-estimator:hover label.sk-toggleable__label-arrow:before {color: black;}#sk-container-id-3 div.sk-toggleable__content {max-height: 0;max-width: 0;overflow: hidden;text-align: left;background-color: #f0f8ff;}#sk-container-id-3 div.sk-toggleable__content pre {margin: 0.2em;color: black;border-radius: 0.25em;background-color: #f0f8ff;}#sk-container-id-3 input.sk-toggleable__control:checked~div.sk-toggleable__content {max-height: 200px;max-width: 100%;overflow: auto;}#sk-container-id-3 input.sk-toggleable__control:checked~label.sk-toggleable__label-arrow:before {content: \"▾\";}#sk-container-id-3 div.sk-estimator input.sk-toggleable__control:checked~label.sk-toggleable__label {background-color: #d4ebff;}#sk-container-id-3 div.sk-label input.sk-toggleable__control:checked~label.sk-toggleable__label {background-color: #d4ebff;}#sk-container-id-3 input.sk-hidden--visually {border: 0;clip: rect(1px 1px 1px 1px);clip: rect(1px, 1px, 1px, 1px);height: 1px;margin: -1px;overflow: hidden;padding: 0;position: absolute;width: 1px;}#sk-container-id-3 div.sk-estimator {font-family: monospace;background-color: #f0f8ff;border: 1px dotted black;border-radius: 0.25em;box-sizing: border-box;margin-bottom: 0.5em;}#sk-container-id-3 div.sk-estimator:hover {background-color: #d4ebff;}#sk-container-id-3 div.sk-parallel-item::after {content: \"\";width: 100%;border-bottom: 1px solid gray;flex-grow: 1;}#sk-container-id-3 div.sk-label:hover label.sk-toggleable__label {background-color: #d4ebff;}#sk-container-id-3 div.sk-serial::before {content: \"\";position: absolute;border-left: 1px solid gray;box-sizing: border-box;top: 0;bottom: 0;left: 50%;z-index: 0;}#sk-container-id-3 div.sk-serial {display: flex;flex-direction: column;align-items: center;background-color: white;padding-right: 0.2em;padding-left: 0.2em;position: relative;}#sk-container-id-3 div.sk-item {position: relative;z-index: 1;}#sk-container-id-3 div.sk-parallel {display: flex;align-items: stretch;justify-content: center;background-color: white;position: relative;}#sk-container-id-3 div.sk-item::before, #sk-container-id-3 div.sk-parallel-item::before {content: \"\";position: absolute;border-left: 1px solid gray;box-sizing: border-box;top: 0;bottom: 0;left: 50%;z-index: -1;}#sk-container-id-3 div.sk-parallel-item {display: flex;flex-direction: column;z-index: 1;position: relative;background-color: white;}#sk-container-id-3 div.sk-parallel-item:first-child::after {align-self: flex-end;width: 50%;}#sk-container-id-3 div.sk-parallel-item:last-child::after {align-self: flex-start;width: 50%;}#sk-container-id-3 div.sk-parallel-item:only-child::after {width: 0;}#sk-container-id-3 div.sk-dashed-wrapped {border: 1px dashed gray;margin: 0 0.4em 0.5em 0.4em;box-sizing: border-box;padding-bottom: 0.4em;background-color: white;}#sk-container-id-3 div.sk-label label {font-family: monospace;font-weight: bold;display: inline-block;line-height: 1.2em;}#sk-container-id-3 div.sk-label-container {text-align: center;}#sk-container-id-3 div.sk-container {/* jupyter's `normalize.less` sets `[hidden] { display: none; }` but bootstrap.min.css set `[hidden] { display: none !important; }` so we also need the `!important` here to be able to override the default hidden behavior on the sphinx rendered scikit-learn.org. See: https://github.com/scikit-learn/scikit-learn/issues/21755 */display: inline-block !important;position: relative;}#sk-container-id-3 div.sk-text-repr-fallback {display: none;}</style><div id=\"sk-container-id-3\" class=\"sk-top-container\"><div class=\"sk-text-repr-fallback\"><pre>LabelEncoder()</pre><b>In a Jupyter environment, please rerun this cell to show the HTML representation or trust the notebook. <br />On GitHub, the HTML representation is unable to render, please try loading this page with nbviewer.org.</b></div><div class=\"sk-container\" hidden><div class=\"sk-item\"><div class=\"sk-estimator sk-toggleable\"><input class=\"sk-toggleable__control sk-hidden--visually\" id=\"sk-estimator-id-3\" type=\"checkbox\" checked><label for=\"sk-estimator-id-3\" class=\"sk-toggleable__label sk-toggleable__label-arrow\">LabelEncoder</label><div class=\"sk-toggleable__content\"><pre>LabelEncoder()</pre></div></div></div></div></div>"
      ],
      "text/plain": [
       "LabelEncoder()"
      ]
     },
     "execution_count": 57,
     "metadata": {},
     "output_type": "execute_result"
    }
   ],
   "source": [
    "from sklearn import preprocessing\n",
    "le = preprocessing.LabelEncoder()\n",
    "le.fit(train[\"grade\"])"
   ]
  },
  {
   "cell_type": "code",
   "execution_count": 58,
   "metadata": {},
   "outputs": [],
   "source": [
    "train[\"grade\"]=le.transform(train[\"grade\"])\n",
    "test[\"grade\"]=le.transform(test[\"grade\"])"
   ]
  },
  {
   "cell_type": "code",
   "execution_count": 59,
   "metadata": {},
   "outputs": [
    {
     "data": {
      "text/html": [
       "<style>#sk-container-id-4 {color: black;background-color: white;}#sk-container-id-4 pre{padding: 0;}#sk-container-id-4 div.sk-toggleable {background-color: white;}#sk-container-id-4 label.sk-toggleable__label {cursor: pointer;display: block;width: 100%;margin-bottom: 0;padding: 0.3em;box-sizing: border-box;text-align: center;}#sk-container-id-4 label.sk-toggleable__label-arrow:before {content: \"▸\";float: left;margin-right: 0.25em;color: #696969;}#sk-container-id-4 label.sk-toggleable__label-arrow:hover:before {color: black;}#sk-container-id-4 div.sk-estimator:hover label.sk-toggleable__label-arrow:before {color: black;}#sk-container-id-4 div.sk-toggleable__content {max-height: 0;max-width: 0;overflow: hidden;text-align: left;background-color: #f0f8ff;}#sk-container-id-4 div.sk-toggleable__content pre {margin: 0.2em;color: black;border-radius: 0.25em;background-color: #f0f8ff;}#sk-container-id-4 input.sk-toggleable__control:checked~div.sk-toggleable__content {max-height: 200px;max-width: 100%;overflow: auto;}#sk-container-id-4 input.sk-toggleable__control:checked~label.sk-toggleable__label-arrow:before {content: \"▾\";}#sk-container-id-4 div.sk-estimator input.sk-toggleable__control:checked~label.sk-toggleable__label {background-color: #d4ebff;}#sk-container-id-4 div.sk-label input.sk-toggleable__control:checked~label.sk-toggleable__label {background-color: #d4ebff;}#sk-container-id-4 input.sk-hidden--visually {border: 0;clip: rect(1px 1px 1px 1px);clip: rect(1px, 1px, 1px, 1px);height: 1px;margin: -1px;overflow: hidden;padding: 0;position: absolute;width: 1px;}#sk-container-id-4 div.sk-estimator {font-family: monospace;background-color: #f0f8ff;border: 1px dotted black;border-radius: 0.25em;box-sizing: border-box;margin-bottom: 0.5em;}#sk-container-id-4 div.sk-estimator:hover {background-color: #d4ebff;}#sk-container-id-4 div.sk-parallel-item::after {content: \"\";width: 100%;border-bottom: 1px solid gray;flex-grow: 1;}#sk-container-id-4 div.sk-label:hover label.sk-toggleable__label {background-color: #d4ebff;}#sk-container-id-4 div.sk-serial::before {content: \"\";position: absolute;border-left: 1px solid gray;box-sizing: border-box;top: 0;bottom: 0;left: 50%;z-index: 0;}#sk-container-id-4 div.sk-serial {display: flex;flex-direction: column;align-items: center;background-color: white;padding-right: 0.2em;padding-left: 0.2em;position: relative;}#sk-container-id-4 div.sk-item {position: relative;z-index: 1;}#sk-container-id-4 div.sk-parallel {display: flex;align-items: stretch;justify-content: center;background-color: white;position: relative;}#sk-container-id-4 div.sk-item::before, #sk-container-id-4 div.sk-parallel-item::before {content: \"\";position: absolute;border-left: 1px solid gray;box-sizing: border-box;top: 0;bottom: 0;left: 50%;z-index: -1;}#sk-container-id-4 div.sk-parallel-item {display: flex;flex-direction: column;z-index: 1;position: relative;background-color: white;}#sk-container-id-4 div.sk-parallel-item:first-child::after {align-self: flex-end;width: 50%;}#sk-container-id-4 div.sk-parallel-item:last-child::after {align-self: flex-start;width: 50%;}#sk-container-id-4 div.sk-parallel-item:only-child::after {width: 0;}#sk-container-id-4 div.sk-dashed-wrapped {border: 1px dashed gray;margin: 0 0.4em 0.5em 0.4em;box-sizing: border-box;padding-bottom: 0.4em;background-color: white;}#sk-container-id-4 div.sk-label label {font-family: monospace;font-weight: bold;display: inline-block;line-height: 1.2em;}#sk-container-id-4 div.sk-label-container {text-align: center;}#sk-container-id-4 div.sk-container {/* jupyter's `normalize.less` sets `[hidden] { display: none; }` but bootstrap.min.css set `[hidden] { display: none !important; }` so we also need the `!important` here to be able to override the default hidden behavior on the sphinx rendered scikit-learn.org. See: https://github.com/scikit-learn/scikit-learn/issues/21755 */display: inline-block !important;position: relative;}#sk-container-id-4 div.sk-text-repr-fallback {display: none;}</style><div id=\"sk-container-id-4\" class=\"sk-top-container\"><div class=\"sk-text-repr-fallback\"><pre>LabelEncoder()</pre><b>In a Jupyter environment, please rerun this cell to show the HTML representation or trust the notebook. <br />On GitHub, the HTML representation is unable to render, please try loading this page with nbviewer.org.</b></div><div class=\"sk-container\" hidden><div class=\"sk-item\"><div class=\"sk-estimator sk-toggleable\"><input class=\"sk-toggleable__control sk-hidden--visually\" id=\"sk-estimator-id-4\" type=\"checkbox\" checked><label for=\"sk-estimator-id-4\" class=\"sk-toggleable__label sk-toggleable__label-arrow\">LabelEncoder</label><div class=\"sk-toggleable__content\"><pre>LabelEncoder()</pre></div></div></div></div></div>"
      ],
      "text/plain": [
       "LabelEncoder()"
      ]
     },
     "execution_count": 59,
     "metadata": {},
     "output_type": "execute_result"
    }
   ],
   "source": [
    "le = preprocessing.LabelEncoder()\n",
    "le.fit(train[\"home_ownership\"])"
   ]
  },
  {
   "cell_type": "code",
   "execution_count": 60,
   "metadata": {},
   "outputs": [],
   "source": [
    "train[\"home_ownership\"]=le.transform(train[\"home_ownership\"])\n",
    "test[\"home_ownership\"]=le.transform(test[\"home_ownership\"])"
   ]
  },
  {
   "cell_type": "code",
   "execution_count": 61,
   "metadata": {},
   "outputs": [],
   "source": [
    "from sklearn.model_selection import train_test_split"
   ]
  },
  {
   "cell_type": "code",
   "execution_count": 62,
   "metadata": {},
   "outputs": [],
   "source": [
    "X=train.drop(columns=[\"loan_status\",\"member_id\"]).values\n",
    "y=train[\"loan_status\"].values\n",
    "\n",
    "#spliting the data\n",
    "X_train, X_test, y_train, y_test = train_test_split(X, y, test_size=0.30, random_state=72)"
   ]
  },
  {
   "cell_type": "code",
   "execution_count": 63,
   "metadata": {},
   "outputs": [],
   "source": [
    "from sklearn.preprocessing import MinMaxScaler\n",
    "scaler=MinMaxScaler()\n",
    "X_train=scaler.fit_transform(X_train)\n",
    "X_test=scaler.transform(X_test)"
   ]
  },
  {
   "cell_type": "code",
   "execution_count": 64,
   "metadata": {},
   "outputs": [],
   "source": [
    "import tensorflow as tf\n",
    "from tensorflow.keras.models import Sequential\n",
    "from tensorflow.keras.layers import Dense,Dropout\n",
    "import logging\n",
    "logging.getLogger('tensorflow').setLevel(logging.ERROR)\n",
    "from tensorflow.keras.callbacks import EarlyStopping"
   ]
  },
  {
   "cell_type": "code",
   "execution_count": 65,
   "metadata": {},
   "outputs": [],
   "source": [
    "#running model\n",
    "#creating model \n",
    "model = Sequential()\n",
    "\n",
    "#adding layer\n",
    "model.add(Dense(78,activation=\"relu\"))\n",
    "model.add(Dropout(0.2))\n",
    "\n",
    "model.add(Dense(39,activation=\"relu\"))\n",
    "model.add(Dropout(0.2))\n",
    "\n",
    "model.add(Dense(19,activation=\"relu\"))\n",
    "model.add(Dropout(0.2))\n",
    "\n",
    "model.add(Dense(19,activation=\"relu\"))\n",
    "model.add(Dropout(0.2))\n",
    "\n",
    "model.add(Dense(units=1,activation=\"sigmoid\"))\n",
    "\n",
    "model.compile(loss=\"binary_crossentropy\",optimizer=\"adam\")\n",
    "\n",
    "#parameters for early stopping\n",
    "early_stop=EarlyStopping(monitor=\"val_loss\",mode=\"min\",verbose=1,patience=5)"
   ]
  },
  {
   "cell_type": "code",
   "execution_count": 66,
   "metadata": {},
   "outputs": [
    {
     "name": "stdout",
     "output_type": "stream",
     "text": [
      "Epoch 1/25\n",
      "1456/1456 [==============================] - 4s 3ms/step - loss: 0.4918 - val_loss: 0.4508\n",
      "Epoch 2/25\n",
      "1456/1456 [==============================] - 4s 3ms/step - loss: 0.4530 - val_loss: 0.4314\n",
      "Epoch 3/25\n",
      "1456/1456 [==============================] - 4s 3ms/step - loss: 0.4425 - val_loss: 0.4306\n",
      "Epoch 4/25\n",
      "1456/1456 [==============================] - 4s 3ms/step - loss: 0.4369 - val_loss: 0.4205\n",
      "Epoch 5/25\n",
      "1456/1456 [==============================] - 4s 3ms/step - loss: 0.4332 - val_loss: 0.4200\n",
      "Epoch 6/25\n",
      "1456/1456 [==============================] - 4s 3ms/step - loss: 0.4306 - val_loss: 0.4155\n",
      "Epoch 7/25\n",
      "1456/1456 [==============================] - 4s 3ms/step - loss: 0.4280 - val_loss: 0.4196\n",
      "Epoch 8/25\n",
      "1456/1456 [==============================] - 4s 3ms/step - loss: 0.4256 - val_loss: 0.4119\n",
      "Epoch 9/25\n",
      "1456/1456 [==============================] - 4s 3ms/step - loss: 0.4230 - val_loss: 0.4080\n",
      "Epoch 10/25\n",
      "1456/1456 [==============================] - 4s 3ms/step - loss: 0.4207 - val_loss: 0.4058\n",
      "Epoch 11/25\n",
      "1456/1456 [==============================] - 4s 3ms/step - loss: 0.4193 - val_loss: 0.4030\n",
      "Epoch 12/25\n",
      "1456/1456 [==============================] - 4s 3ms/step - loss: 0.4166 - val_loss: 0.4036\n",
      "Epoch 13/25\n",
      "1456/1456 [==============================] - 4s 3ms/step - loss: 0.4141 - val_loss: 0.4002\n",
      "Epoch 14/25\n",
      "1456/1456 [==============================] - 4s 3ms/step - loss: 0.4123 - val_loss: 0.3981\n",
      "Epoch 15/25\n",
      "1456/1456 [==============================] - 4s 3ms/step - loss: 0.4106 - val_loss: 0.3964\n",
      "Epoch 16/25\n",
      "1456/1456 [==============================] - 4s 3ms/step - loss: 0.4091 - val_loss: 0.3935\n",
      "Epoch 17/25\n",
      "1456/1456 [==============================] - 4s 3ms/step - loss: 0.4083 - val_loss: 0.3959\n",
      "Epoch 18/25\n",
      "1456/1456 [==============================] - 4s 3ms/step - loss: 0.4067 - val_loss: 0.3907\n",
      "Epoch 19/25\n",
      "1456/1456 [==============================] - 4s 3ms/step - loss: 0.4058 - val_loss: 0.3903\n",
      "Epoch 20/25\n",
      "1456/1456 [==============================] - 4s 3ms/step - loss: 0.4044 - val_loss: 0.3924\n",
      "Epoch 21/25\n",
      "1456/1456 [==============================] - 4s 3ms/step - loss: 0.4028 - val_loss: 0.3897\n",
      "Epoch 22/25\n",
      "1456/1456 [==============================] - 4s 3ms/step - loss: 0.4027 - val_loss: 0.3891\n",
      "Epoch 23/25\n",
      "1456/1456 [==============================] - 4s 3ms/step - loss: 0.4023 - val_loss: 0.3850\n",
      "Epoch 24/25\n",
      "1456/1456 [==============================] - 4s 3ms/step - loss: 0.4023 - val_loss: 0.3929\n",
      "Epoch 25/25\n",
      "1456/1456 [==============================] - 4s 3ms/step - loss: 0.4007 - val_loss: 0.3895\n"
     ]
    },
    {
     "data": {
      "text/plain": [
       "<keras.callbacks.History at 0x20307346fa0>"
      ]
     },
     "execution_count": 66,
     "metadata": {},
     "output_type": "execute_result"
    }
   ],
   "source": [
    "model.fit(x=X_train,y=y_train,epochs=25,batch_size=256,validation_data=(X_test,y_test),callbacks=[early_stop])"
   ]
  },
  {
   "cell_type": "code",
   "execution_count": 67,
   "metadata": {},
   "outputs": [
    {
     "data": {
      "text/plain": [
       "<AxesSubplot: >"
      ]
     },
     "execution_count": 67,
     "metadata": {},
     "output_type": "execute_result"
    },
    {
     "data": {
      "image/png": "[encoded data removed]",
      "text/plain": [
       "<Figure size 640x480 with 1 Axes>"
      ]
     },
     "metadata": {},
     "output_type": "display_data"
    }
   ],
   "source": [
    "loss=pd.DataFrame(model.history.history)\n",
    "\n",
    "loss.plot()"
   ]
  },
  {
   "cell_type": "code",
   "execution_count": 79,
   "metadata": {},
   "outputs": [
    {
     "name": "stdout",
     "output_type": "stream",
     "text": [
      "4992/4992 [==============================] - 4s 734us/step\n",
      "              precision    recall  f1-score   support\n",
      "\n",
      "           0       0.84      0.97      0.90    121847\n",
      "           1       0.80      0.43      0.56     37882\n",
      "\n",
      "    accuracy                           0.84    159729\n",
      "   macro avg       0.82      0.70      0.73    159729\n",
      "weighted avg       0.84      0.84      0.82    159729\n",
      "\n",
      "[[117881   3966]\n",
      " [ 21653  16229]]\n",
      "0.6979301272522108\n"
     ]
    }
   ],
   "source": [
    "from sklearn.metrics import classification_report,confusion_matrix,roc_curve,roc_auc_score,auc,precision_recall_curve\n",
    "\n",
    "predict=model.predict(X_test)\n",
    "print(classification_report(y_test,tf.round(predict)))\n",
    "print(confusion_matrix(y_test,tf.round(predict)))\n",
    "print(roc_auc_score(y_test,tf.round(predict)))"
   ]
  },
  {
   "cell_type": "code",
   "execution_count": 69,
   "metadata": {},
   "outputs": [],
   "source": [
    "precision, recall, thresholds = precision_recall_curve(y_test,tf.round(predict))"
   ]
  },
  {
   "cell_type": "code",
   "execution_count": 70,
   "metadata": {},
   "outputs": [],
   "source": [
    "aucpr = auc(recall, precision)"
   ]
  },
  {
   "cell_type": "code",
   "execution_count": 71,
   "metadata": {},
   "outputs": [
    {
     "data": {
      "text/plain": [
       "0.6837924416108858"
      ]
     },
     "execution_count": 71,
     "metadata": {},
     "output_type": "execute_result"
    }
   ],
   "source": [
    "aucpr"
   ]
  },
  {
   "cell_type": "code",
   "execution_count": 72,
   "metadata": {},
   "outputs": [],
   "source": [
    "members=test[\"member_id\"]"
   ]
  },
  {
   "cell_type": "code",
   "execution_count": 73,
   "metadata": {},
   "outputs": [],
   "source": [
    "test=test.drop(\"member_id\",axis=1)"
   ]
  },
  {
   "cell_type": "code",
   "execution_count": 74,
   "metadata": {},
   "outputs": [
    {
     "name": "stderr",
     "output_type": "stream",
     "text": [
      "c:\\Users\\user\\AppData\\Local\\Programs\\Python\\Python39\\lib\\site-packages\\sklearn\\base.py:402: UserWarning: X has feature names, but MinMaxScaler was fitted without feature names\n",
      "  warnings.warn(\n"
     ]
    }
   ],
   "source": [
    "test=scaler.transform(test)"
   ]
  },
  {
   "cell_type": "code",
   "execution_count": 75,
   "metadata": {},
   "outputs": [
    {
     "name": "stdout",
     "output_type": "stream",
     "text": [
      "11093/11093 [==============================] - 9s 819us/step\n"
     ]
    }
   ],
   "source": [
    "rpreds=model.predict(test)"
   ]
  },
  {
   "cell_type": "code",
   "execution_count": 76,
   "metadata": {},
   "outputs": [],
   "source": [
    "import numpy as np"
   ]
  },
  {
   "cell_type": "code",
   "execution_count": 77,
   "metadata": {},
   "outputs": [],
   "source": [
    "sub=pd.DataFrame({\"member_ ID\":np.array(members),\"probability\":np.array(rpreds).flatten()})"
   ]
  },
  {
   "cell_type": "code",
   "execution_count": 78,
   "metadata": {},
   "outputs": [],
   "source": [
    "sub.to_csv(\"submission.csv\")"
   ]
  },
  {
   "cell_type": "code",
   "execution_count": null,
   "metadata": {},
   "outputs": [],
   "source": []
  }
 ],
 "metadata": {
  "kernelspec": {
   "display_name": "Python 3",
   "language": "python",
   "name": "python3"
  },
  "language_info": {
   "codemirror_mode": {
    "name": "ipython",
    "version": 3
   },
   "file_extension": ".py",
   "mimetype": "text/x-python",
   "name": "python",
   "nbconvert_exporter": "python",
   "pygments_lexer": "ipython3",
   "version": "3.9.1rc1"
  },
  "orig_nbformat": 4,
  "vscode": {
   "interpreter": {
    "hash": "82ed002fa2d4956f5c6aec99bcefe0f73a9f79882f3c9e2319b14958a5896ac5"
   }
  }
 },
 "nbformat": 4,
 "nbformat_minor": 2
}
